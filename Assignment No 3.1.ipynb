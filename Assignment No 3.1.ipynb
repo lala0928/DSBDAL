{
 "cells": [
  {
   "cell_type": "code",
   "execution_count": 1,
   "id": "62c28de6-d602-4c7a-8682-538b2cd07492",
   "metadata": {},
   "outputs": [
    {
     "name": "stdout",
     "output_type": "stream",
     "text": [
      "Summary Statistics of Income grouped by Age Group:\n",
      "             mean   median    min    max     std\n",
      "AgeGroup                                        \n",
      "18-25     24000.0  24000.0  22000  26000  2000.0\n",
      "26-35     37000.0  37000.0  35000  39000  2000.0\n",
      "36-45     50000.0  50000.0  48000  52000  2000.0\n",
      "\n",
      "List of Income values for each Age Group:\n",
      "AgeGroup\n",
      "18-25    [22000, 24000, 26000]\n",
      "26-35    [35000, 37000, 39000]\n",
      "36-45    [48000, 50000, 52000]\n",
      "Name: Income, dtype: object\n"
     ]
    }
   ],
   "source": [
    "# Descriptive Statistics - Measures of Central Tendency and variability-Perform the following operations on any open-source dataset (e.g., data.csv) \n",
    "# 1. Provide summary statistics (mean, median, minimum, maximum, standard deviation) for a dataset (age, income etc.) \n",
    "# with numeric variables grouped by one of the qualitative (categorical) variable. For example, if your categorical variable is age \n",
    "# groups and quantitative variable is income, then provide summary statistics of income grouped by the age groups. \n",
    "# Create a list that contains a numeric value for each response to the categorical variable. "
   ]
  },
  {
   "cell_type": "code",
   "execution_count": 1,
   "id": "2da3392d-6abe-48eb-944e-b5da4668cbaf",
   "metadata": {},
   "outputs": [
    {
     "name": "stdout",
     "output_type": "stream",
     "text": [
      "Summary Statistics of Income grouped by Age Group:\n",
      "             mean   median    min    max     std\n",
      "AgeGroup                                        \n",
      "18-25     24000.0  24000.0  22000  26000  2000.0\n",
      "26-35     37000.0  37000.0  35000  39000  2000.0\n",
      "36-45     50000.0  50000.0  48000  52000  2000.0\n",
      "\n",
      "List of Income values for each Age Group:\n",
      "AgeGroup\n",
      "18-25    [22000, 24000, 26000]\n",
      "26-35    [35000, 37000, 39000]\n",
      "36-45    [48000, 50000, 52000]\n",
      "Name: Income, dtype: object\n"
     ]
    }
   ],
   "source": [
    "import pandas as pd\n",
    "# Load dataset\n",
    "df = pd.read_csv(\"Sample_Data.csv\")\n",
    "# Group by categorical variable (e.g., AgeGroup)\n",
    "grouped = df.groupby('AgeGroup')\n",
    "\n",
    "# Calculate summary statistics\n",
    "summary_stats = grouped['Income'].agg(['mean', 'median', 'min', 'max', 'std'])\n",
    "\n",
    "print(\"Summary Statistics of Income grouped by Age Group:\")\n",
    "print(summary_stats)\n",
    "\n",
    "# Create a list of numeric values per AgeGroup\n",
    "grouped_lists = grouped['Income'].apply(list)\n",
    "\n",
    "print(\"\\nList of Income values for each Age Group:\")\n",
    "print(grouped_lists)\n"
   ]
  }
 ],
 "metadata": {
  "kernelspec": {
   "display_name": "Python 3 (ipykernel)",
   "language": "python",
   "name": "python3"
  },
  "language_info": {
   "codemirror_mode": {
    "name": "ipython",
    "version": 3
   },
   "file_extension": ".py",
   "mimetype": "text/x-python",
   "name": "python",
   "nbconvert_exporter": "python",
   "pygments_lexer": "ipython3",
   "version": "3.13.1"
  }
 },
 "nbformat": 4,
 "nbformat_minor": 5
}
